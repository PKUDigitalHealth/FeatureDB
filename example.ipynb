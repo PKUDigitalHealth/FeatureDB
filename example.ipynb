{
 "cells": [
  {
   "cell_type": "code",
   "execution_count": 1,
   "id": "387783b3",
   "metadata": {},
   "outputs": [],
   "source": [
    "import json\n",
    "\n",
    "import numpy as np\n",
    "from tools.ResampleTools import resample_interp\n",
    "from tools.NormalizeTools import normalize_sig_hist\n",
    "from tools.SimpleFilter import smooth_avg1\n",
    "from tools.QRSDetector import simple_qrs_detector\n",
    "from tools.HRVS import hrvs\n",
    "from features.ECGAvgBeat import extract_avg_wave\n",
    "from tools.SingleBeatBounds import dwt_ecg_delineator\n",
    "\n",
    "from features.ECGAvgBeat import extract_features\n",
    "\n",
    "\n",
    "if __name__ == '__main__':\n",
    "    with open('data/example_data.txt', 'r') as fr:\n",
    "        raw_data = json.load(fr)\n",
    "\n",
    "    ecg_signal = raw_data  # raw_datat-->list or array\n",
    "    # ecg_signal = np.array(ecg_signal)\n",
    "\n",
    "    fs_raw = 125   # 原始采样率\n",
    "    fs_out = 500  # 重采样率\n",
    "\n",
    "    # ECG信号重采样--基于线性拟合的差值重采样算法\n",
    "    resample_ecg = resample_interp(ecg_signal, fs_raw, fs_out)\n",
    "\n",
    "    # 滤波--均值滤波\n",
    "    filter_ecg = smooth_avg1(resample_ecg, radius=3)\n",
    "\n",
    "    # 数据归一化--按信号的直方图百分比进行数据归一化\n",
    "    ecg_data = normalize_sig_hist(filter_ecg, TH=0.01)\n",
    "\n",
    "    # QRS波的位置检测-->R波波峰位置\n",
    "    qrs = simple_qrs_detector(ecg_data, fs_out)\n",
    "\n",
    "    # 心率变异性HRV-->FrequencyDomain频域, TimeDomain时域, NonLinear非线性\n",
    "    hrv = hrvs(peaks=qrs, fs=fs_out)\n",
    "\n",
    "    # 平均波形提取-->平均波形及平均波形的R波位置\n",
    "    avg_wave, r, avg_rr = extract_avg_wave(ecg_data, qrs, fs_out)\n",
    "\n",
    "    # 单个Beat的各波定位-->P波、T波起始及峰值位置/QRS波起始位置/Q波和S波峰值位置\n",
    "    bound_infos = dwt_ecg_delineator(avg_wave, r, fs_out)\n",
    "\n",
    "    p = bound_infos['ECG_P_Peak']  # p波峰值位置\n",
    "    p_start = bound_infos['ECG_P_Onset']  # p波开始位置\n",
    "    p_end = bound_infos['ECG_P_Offset']  # p波结束位置\n",
    "    q = bound_infos['ECG_Q_Peak']  # q波峰值位置\n",
    "    s = bound_infos['ECG_S_Peak']  # s波峰值位置\n",
    "    qrs_start = bound_infos['ECG_R_Onset']  # qrs波开始位置\n",
    "    qrs_end = bound_infos['ECG_R_Offset']  # qrs波结束位置\n",
    "    t = bound_infos['ECG_T_Peak']  # t波峰值位置\n",
    "    t_start = bound_infos['ECG_T_Onset']  # t波开始位置\n",
    "    t_end = bound_infos['ECG_T_Offset']  # t波结束位置\n",
    "\n",
    "    #  特征提取-->QRS波/PR段/ST段/T波/P波等特征信息\n",
    "    features = extract_features(avg_wave, p_start, p_end, qrs_start, qrs_end, t_start, t_end, fs_out, avg_rr)\n"
   ]
  },
  {
   "cell_type": "code",
   "execution_count": 2,
   "id": "c5a27efa",
   "metadata": {},
   "outputs": [
    {
     "data": {
      "text/plain": [
       "{'QT': 282,\n",
       " 'QTc': 434,\n",
       " 'HR': 142,\n",
       " 'R/T': 5.714285714285714,\n",
       " 'QRS': {'RAmplitude': 0.76,\n",
       "  'SAmplitude': nan,\n",
       "  'QAmplitude': 0.272,\n",
       "  \"R'Amplitude\": nan,\n",
       "  'RDuration': 52,\n",
       "  'SDuration': nan,\n",
       "  'QDuration': 27,\n",
       "  \"R'Duration\": nan,\n",
       "  'QRSPrinciple': '+',\n",
       "  'QRSAmplitude': 1.032,\n",
       "  'QRSDuration': 80,\n",
       "  'Q/R': 0.35789473684210527},\n",
       " 'PR': {'computable': True, 'interval': 126, 'form': 'horizontal'},\n",
       " 'ST': {'computable': True,\n",
       "  'duration': 232,\n",
       "  'form': 'upslope',\n",
       "  'amplitude': 0.21400000000000002},\n",
       " 'T': {'exist': True,\n",
       "  'form': '+',\n",
       "  'amplitude': 0.133,\n",
       "  'direction': '+',\n",
       "  'duration': 282},\n",
       " 'P': {'exist': True,\n",
       "  'form': '+',\n",
       "  'amplitude': 0.04000000000000001,\n",
       "  'direction': '+',\n",
       "  'duration': 64}}"
      ]
     },
     "execution_count": 2,
     "metadata": {},
     "output_type": "execute_result"
    }
   ],
   "source": [
    "features"
   ]
  },
  {
   "cell_type": "code",
   "execution_count": null,
   "id": "b60ad932",
   "metadata": {},
   "outputs": [],
   "source": []
  }
 ],
 "metadata": {
  "kernelspec": {
   "display_name": "Python 3",
   "language": "python",
   "name": "python3"
  },
  "language_info": {
   "codemirror_mode": {
    "name": "ipython",
    "version": 3
   },
   "file_extension": ".py",
   "mimetype": "text/x-python",
   "name": "python",
   "nbconvert_exporter": "python",
   "pygments_lexer": "ipython3",
   "version": "3.8.8"
  }
 },
 "nbformat": 4,
 "nbformat_minor": 5
}
